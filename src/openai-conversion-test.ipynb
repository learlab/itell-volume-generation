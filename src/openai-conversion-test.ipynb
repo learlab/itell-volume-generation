{
 "cells": [
  {
   "cell_type": "markdown",
   "id": "62121f45-d1ef-4922-8ec3-cd5b7135e748",
   "metadata": {},
   "source": [
    "# OpenAI PDF to iTELL JSON Conversion Test"
   ]
  },
  {
   "cell_type": "code",
   "execution_count": 27,
   "id": "0de360ff-38b6-422e-a734-007ac27be5cc",
   "metadata": {},
   "outputs": [],
   "source": [
    "import openai\n",
    "import json\n",
    "import requests\n",
    "from dotenv import load_dotenv\n",
    "import os\n",
    "import base64\n",
    "from pathlib import Path\n",
    "\n",
    "# Load environment variables\n",
    "load_dotenv()\n",
    "client = openai.OpenAI(api_key=os.getenv(\"OPENAI_API_KEY\"))\n",
    "\n",
    "# File paths\n",
    "pdf_path = \"../data/input-docs/Civics Test Text-first-4-chapters.pdf\"\n",
    "example_output_path = \"../data/reference-json/Civics Test Text iTELL JSON.json\"\n",
    "md_instructions_path = \"../doc/guide-to-itell-json.md\"\n",
    "strapi_url = os.getenv(\"CMS_URL\", \"http://localhost:1337\")\n",
    "strapi_key = os.getenv(\"CMS_KEY\")"
   ]
  },
  {
   "cell_type": "code",
   "execution_count": 33,
   "id": "e6649540-ab3b-4c77-8f80-53382195019f",
   "metadata": {},
   "outputs": [],
   "source": [
    "# Load example JSON and instructions\n",
    "with open(example_output_path, 'r', encoding='utf-8') as f:\n",
    "    example_json = json.load(f)\n",
    "\n",
    "with open(md_instructions_path, 'r', encoding='utf-8') as f:\n",
    "    md_instructions = f.read()\n",
    "\n",
    "with open(pdf_path, \"rb\") as f:\n",
    "    pdf_b64 = base64.b64encode(f.read()).decode(\"utf-8\")\n",
    "\n",
    "chapter_1_json = next(page for page in example_json[\"data\"] if page[\"Title\"] == \"Chapter 1: The U.S. Constitution\")"
   ]
  },
  {
   "cell_type": "code",
   "execution_count": 29,
   "id": "fd19ced0-3d73-4c96-b2eb-89b54a33a704",
   "metadata": {},
   "outputs": [],
   "source": [
    "# Construct the prompt\n",
    "def construct_prompt(md_instructions, example_json):\n",
    "    prompt = f\"\"\"You are an expert content converter specializing in educational materials. Your task is to convert the provided PDF document into iTELL JSON format.\n",
    "\n",
    "INSTRUCTIONS:\n",
    "{md_instructions}\n",
    "\n",
    "EXAMPLE OUTPUT FORMAT:\n",
    "```json\n",
    "{json.dumps(chapter_4_json, indent=2)}\n",
    "```\n",
    "\n",
    "Please convert the PDF document into iTELL JSON format following the instructions and example provided. Ensure proper chunking, appropriate headers, and maintain the educational structure. Return only valid JSON.\"\"\"\n",
    "    return prompt\n",
    "\n",
    "prompt = construct_prompt(md_instructions, chapter_1_json)\n",
    "# print(prompt)"
   ]
  },
  {
   "cell_type": "code",
   "execution_count": 32,
   "id": "a98226fc-262b-4d47-b29f-3a879ce4e8dc",
   "metadata": {},
   "outputs": [
    {
     "name": "stdout",
     "output_type": "stream",
     "text": [
      "\n"
     ]
    }
   ],
   "source": [
    "def openai_convert(pdf_b64, prompt):\n",
    "    completion = client.chat.completions.create(\n",
    "        model=\"gpt-5-mini\",\n",
    "        messages=[\n",
    "            {\n",
    "                \"role\": \"user\",\n",
    "                \"content\": [\n",
    "                    {\n",
    "                        \"type\": \"file\",\n",
    "                        \"file\": {\n",
    "                            \"filename\": pdf_path,\n",
    "                            \"file_data\": f\"data:application/pdf;base64,{pdf_b64}\",\n",
    "                        }\n",
    "                    },\n",
    "                    {\n",
    "                        \"type\": \"text\",\n",
    "                        \"text\": prompt,\n",
    "                    }\n",
    "                ],\n",
    "            },\n",
    "        ],\n",
    "        max_completion_tokens=4_000,\n",
    "    )\n",
    "\n",
    "    return completion.choices[0].message.content.strip()\n",
    "\n",
    "content = openai_convert(pdf_b64, prompt)\n",
    "print(content)"
   ]
  },
  {
   "cell_type": "code",
   "execution_count": null,
   "id": "f695ee3f-fb82-4c57-8e39-3e937158e79b",
   "metadata": {},
   "outputs": [],
   "source": [
    "# Upload to Strapi if good quality\n",
    "headers = {\n",
    "    \"Authorization\": f\"Bearer {strapi_token}\",\n",
    "    \"Content-Type\": \"application/json\"\n",
    "}\n",
    "\n",
    "upload_response = requests.post(\n",
    "    f\"{strapi_url}/api/contents\",\n",
    "    json={\"data\": content},\n",
    "    headers=headers\n",
    ")\n",
    "\n",
    "if upload_response.status_code in [200, 201]:\n",
    "    print(\"✅ Successfully uploaded to Strapi\")\n",
    "else:\n",
    "    print(f\"❌ Strapi upload failed: {upload_response.status_code}\")"
   ]
  }
 ],
 "metadata": {
  "kernelspec": {
   "display_name": "Python [conda env:openai]",
   "language": "python",
   "name": "conda-env-openai-py"
  },
  "language_info": {
   "codemirror_mode": {
    "name": "ipython",
    "version": 3
   },
   "file_extension": ".py",
   "mimetype": "text/x-python",
   "name": "python",
   "nbconvert_exporter": "python",
   "pygments_lexer": "ipython3",
   "version": "3.11.6"
  }
 },
 "nbformat": 4,
 "nbformat_minor": 5
}
